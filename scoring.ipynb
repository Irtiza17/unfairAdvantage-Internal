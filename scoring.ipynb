{
 "cells": [
  {
   "cell_type": "code",
   "execution_count": null,
   "metadata": {},
   "outputs": [],
   "source": [
    "import pandas as pd\n",
    "import datetime\n",
    "import numpy as np"
   ]
  },
  {
   "cell_type": "code",
   "execution_count": null,
   "metadata": {},
   "outputs": [],
   "source": [
    "# df = pd.DataFrame(np.random.rand(365,3), index=pd.date_range('1999-01-01', periods=365), columns=list('ABC'))\n",
    "# df.head()"
   ]
  },
  {
   "cell_type": "code",
   "execution_count": null,
   "metadata": {},
   "outputs": [],
   "source": [
    "# \n",
    "\n",
    "\n",
    "df = pd.DataFrame(columns=['Date','Time','Focus','Emotion'])\n",
    "df2 = pd.DataFrame(columns=['Date','Time','Focus','Emotion'])\n",
    "df2.drop(df.index, inplace=True)\n",
    "# for i in range(10):\n",
    "#     df_new_row = pd.DataFrame({'Date':[i],'Time':[i],'Focus':[6+i],'Emotion':[i]})\n",
    "#     df2 = pd.concat([df2, df_new_row],ignore_index=True)\n",
    "# # condition based selection - df.loc[df[‘column name’] condition] i.e df.loc[df[‘Color’] == ‘Green’]\n",
    "# x = df2.loc[0:2,'Focus']\n",
    "# y = x.tolist()\n",
    "\n",
    "# # print(df2.head())\n",
    "# print(y)\n",
    "# print(type(y))\n"
   ]
  },
  {
   "cell_type": "code",
   "execution_count": null,
   "metadata": {},
   "outputs": [],
   "source": [
    "\n",
    "\n",
    "def score(s1,s2,df):\n",
    "    filepath = 'D:/Internship/Tasks/unfairAdvantage/scorelog/score.csv'\n",
    "\n",
    "    if str(s1).lower() == \"focused\":\n",
    "        focus = 1\n",
    "    else:\n",
    "        focus = 0\n",
    "    if str(s2).lower() == \"positive\":\n",
    "        emotion = 1\n",
    "    else:\n",
    "        emotion = 0\n",
    "    # print(focus,emotion)\n",
    "\n",
    "    now = datetime.datetime.now()\n",
    "\n",
    "    # print (\"Current date and time : \")\n",
    "    # print (now.strftime(\"%Y-%m-%d %H:%M:%S\"))\n",
    "\n",
    "\n",
    "    date = str(now.strftime(\"%Y-%m-%d\"))\n",
    "    time = str(now.strftime(\"%H:%M:%S:%f\")[:-3])\n",
    "    df_new_row = pd.DataFrame({'Date':[date],'Time':[time],'Focus':[focus],'Emotion':[emotion]})\n",
    "    # df = df.append(data, ignore_index=True)\n",
    "    df = pd.concat([df, df_new_row])\n",
    "\n",
    "    return df\n",
    "    # df.to_csv(filepath,index=False)\n"
   ]
  },
  {
   "cell_type": "code",
   "execution_count": null,
   "metadata": {},
   "outputs": [],
   "source": [
    "def secondScore(df,df2):\n",
    "    row = []\n",
    "    focscore = []\n",
    "    initial = 0\n",
    "    print(len(df))\n",
    "    startTime = datetime.datetime.strptime(df['Time'].iloc[0], \"%H:%M:%S:%f\")\n",
    "    for i in range(len(df)):\n",
    "        nextTime = datetime.datetime.strptime(df['Time'].iloc[i], \"%H:%M:%S:%f\")\n",
    "        timedif = int((nextTime-startTime).seconds)\n",
    "        # print((timedif))\n",
    "        if timedif > 1 :\n",
    "            row.append(i)\n",
    "            startTime = datetime.datetime.strptime(df['Time'].iloc[i], \"%H:%M:%S:%f\")\n",
    "            x = (df.loc[initial:i,'Focus']).tolist()\n",
    "            y = (df.loc[initial:i,'Emotion']).tolist()\n",
    "            print(type(x))\n",
    "            initial = i\n",
    "            x2  = max(x,key = x.count)\n",
    "            y2  = max(y,key = y.count)\n",
    "            total = x2+y2\n",
    "            df2_new_row = pd.DataFrame({'Date':[df['Date'].iloc[i]],'Time':[df['Time'].iloc[i]],'Focus':[x2],'Emotion':[y2]})    \n",
    "            df2 = pd.concat([df2, df2_new_row],ignore_index=True)\n",
    "    print(row)\n",
    "    return df2\n",
    "\n"
   ]
  },
  {
   "cell_type": "code",
   "execution_count": null,
   "metadata": {},
   "outputs": [],
   "source": [
    "df.drop(df.index, inplace=True)\n",
    "for i in range(3000):\n",
    "    df = score(\"Focused\",\"Positive\",df)\n",
    "df2 = secondScore(df,df2)\n",
    "df2.head()\n",
    "# print(df)\n"
   ]
  },
  {
   "cell_type": "code",
   "execution_count": 55,
   "metadata": {},
   "outputs": [
    {
     "name": "stdout",
     "output_type": "stream",
     "text": [
      "{'video1': 6, 'video2': 5, 'video3': 6} {'video1': 1, 'video2': 1, 'video3': 0} {'video1': 7, 'video2': 6, 'video3': 6}\n"
     ]
    }
   ],
   "source": [
    "def videoMapping(inputdf,outputdf):\n",
    "    df3= inputdf\n",
    "    x = len(df3)/3\n",
    "    y = round(x)\n",
    "    Focus = {'video1':sum((df3.iloc[0:y,2]).tolist()),'video2':sum((df3.iloc[y:(2*y),2]).tolist()),'video3':sum((df3.iloc[(2*y):(3*y),2]).tolist())}  \n",
    "    Emotion = {'video1':sum((df3.iloc[0:y,3]).tolist()),'video2':sum((df3.iloc[y:(2*y),3]).tolist()),'video3':sum((df3.iloc[(2*y):(3*y),3]).tolist())}  \n",
    "    Total = {'video1':sum((df3.iloc[0:y,4]).tolist()),'video2':sum((df3.iloc[y:(2*y),4]).tolist()),'video3':sum((df3.iloc[(2*y):(3*y),4]).tolist())}  \n",
    "\n",
    "    print(Focus,Emotion,Total)\n",
    "\n",
    "    filepath = 'D:/Internship/Tasks/unfairAdvantage/scorelog/Videos.csv'\n",
    "\n",
    "    outputdf = pd.read_csv('scorelog/Videos.csv')\n",
    "    outputdf['Total Score'] = Total.values()\n",
    "    outputdf['Focus'] = Focus.values()\n",
    "    outputdf['Emotion'] = Emotion.values()\n",
    "    \n",
    "    return outputdf\n"
   ]
  }
 ],
 "metadata": {
  "kernelspec": {
   "display_name": "Python 3.10.5 ('unfairenvv': venv)",
   "language": "python",
   "name": "python3"
  },
  "language_info": {
   "codemirror_mode": {
    "name": "ipython",
    "version": 3
   },
   "file_extension": ".py",
   "mimetype": "text/x-python",
   "name": "python",
   "nbconvert_exporter": "python",
   "pygments_lexer": "ipython3",
   "version": "3.10.5"
  },
  "orig_nbformat": 4,
  "vscode": {
   "interpreter": {
    "hash": "217b67888a8b9bfb378467d0367d5af6290a70a8d11a5af264ad2577b0b9c5ba"
   }
  }
 },
 "nbformat": 4,
 "nbformat_minor": 2
}
