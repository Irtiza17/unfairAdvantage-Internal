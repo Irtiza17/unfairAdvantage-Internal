{
 "cells": [
  {
   "cell_type": "code",
   "execution_count": null,
   "metadata": {},
   "outputs": [],
   "source": [
    "import pandas as pd\n",
    "import datetime\n",
    "import numpy as np"
   ]
  },
  {
   "cell_type": "code",
   "execution_count": null,
   "metadata": {},
   "outputs": [],
   "source": [
    "# df = pd.DataFrame(np.random.rand(365,3), index=pd.date_range('1999-01-01', periods=365), columns=list('ABC'))\n",
    "# df.head()"
   ]
  },
  {
   "cell_type": "code",
   "execution_count": null,
   "metadata": {},
   "outputs": [],
   "source": [
    "# \n",
    "\n",
    "\n",
    "df = pd.DataFrame(columns=['Date','Time','Focus','Emotion'])\n",
    "df2 = pd.DataFrame(columns=['Date','Time','Focus','Emotion'])\n",
    "df2.drop(df.index, inplace=True)\n",
    "# for i in range(10):\n",
    "#     df_new_row = pd.DataFrame({'Date':[i],'Time':[i],'Focus':[6+i],'Emotion':[i]})\n",
    "#     df2 = pd.concat([df2, df_new_row],ignore_index=True)\n",
    "# # condition based selection - df.loc[df[‘column name’] condition] i.e df.loc[df[‘Color’] == ‘Green’]\n",
    "# x = df2.loc[0:2,'Focus']\n",
    "# y = x.tolist()\n",
    "\n",
    "# # print(df2.head())\n",
    "# print(y)\n",
    "# print(type(y))\n"
   ]
  },
  {
   "cell_type": "code",
   "execution_count": null,
   "metadata": {},
   "outputs": [],
   "source": [
    "\n",
    "\n",
    "def score(s1,s2,df):\n",
    "    filepath = 'D:/Internship/Tasks/unfairAdvantage/scorelog/score.csv'\n",
    "\n",
    "    if str(s1).lower() == \"focused\":\n",
    "        focus = 1\n",
    "    else:\n",
    "        focus = 0\n",
    "    if str(s2).lower() == \"positive\":\n",
    "        emotion = 1\n",
    "    else:\n",
    "        emotion = 0\n",
    "    # print(focus,emotion)\n",
    "\n",
    "    now = datetime.datetime.now()\n",
    "\n",
    "    # print (\"Current date and time : \")\n",
    "    # print (now.strftime(\"%Y-%m-%d %H:%M:%S\"))\n",
    "\n",
    "\n",
    "    date = str(now.strftime(\"%Y-%m-%d\"))\n",
    "    time = str(now.strftime(\"%H:%M:%S:%f\")[:-3])\n",
    "    df_new_row = pd.DataFrame({'Date':[date],'Time':[time],'Focus':[focus],'Emotion':[emotion]})\n",
    "    # df = df.append(data, ignore_index=True)\n",
    "    df = pd.concat([df, df_new_row])\n",
    "\n",
    "    return df\n",
    "    # df.to_csv(filepath,index=False)\n"
   ]
  },
  {
   "cell_type": "code",
   "execution_count": null,
   "metadata": {},
   "outputs": [],
   "source": [
    "def secondScore(df):\n",
    "    row = []\n",
    "    focscore = []\n",
    "    initial = 0\n",
    "    print(len(df))\n",
    "    startTime = datetime.datetime.strptime(df['Time'].iloc[0], \"%H:%M:%S:%f\")\n",
    "    for i in range(len(df)):\n",
    "        nextTime = datetime.datetime.strptime(df['Time'].iloc[i], \"%H:%M:%S:%f\")\n",
    "        timedif = int((nextTime-startTime).seconds)\n",
    "        if timedif > 1 :\n",
    "            row.append(i)\n",
    "            startTime = datetime.datetime.strptime(df['Time'].iloc[i], \"%H:%M:%S:%f\")\n",
    "            x = (df.loc[initial:i,'Focus']).tolist()\n",
    "            y = (df.loc[initial:i,'Emotion']).tolist()\n",
    "            initial = i\n",
    "            x2  = max(x,x.count)\n",
    "            y2  = max(y,y.count)\n",
    "            df2_new_row = pd.DataFrame({'Date':df['Date'].iloc[i],'Time':df['Time'].iloc[i],'Focus':x2,'Emotion':y2})    \n",
    "            df2 = pd.concat([df2, df2_new_row],ignore_index=True)\n",
    "    return df2\n",
    "\n"
   ]
  },
  {
   "cell_type": "code",
   "execution_count": null,
   "metadata": {},
   "outputs": [],
   "source": [
    "df.drop(df.index, inplace=True)\n",
    "for i in range(2000):\n",
    "    df = score(\"Focused\",\"Positive\",df)\n",
    "\n"
   ]
  },
  {
   "cell_type": "code",
   "execution_count": null,
   "metadata": {},
   "outputs": [],
   "source": [
    "df.drop(df.index, inplace=True)\n",
    "for i in range(2000):\n",
    "    df = score(\"Focused\",\"Positive\",df)\n",
    "\n"
   ]
  }
 ],
 "metadata": {
  "kernelspec": {
   "display_name": "Python 3.10.4 ('unfairenv': venv)",
   "language": "python",
   "name": "python3"
  },
  "language_info": {
   "codemirror_mode": {
    "name": "ipython",
    "version": 3
   },
   "file_extension": ".py",
   "mimetype": "text/x-python",
   "name": "python",
   "nbconvert_exporter": "python",
   "pygments_lexer": "ipython3",
   "version": "3.10.4"
  },
  "orig_nbformat": 4,
  "vscode": {
   "interpreter": {
    "hash": "894be7be9598d974245e2d37151e05178a0f98fcda69c3de6f34730f26dc1a1a"
   }
  }
 },
 "nbformat": 4,
 "nbformat_minor": 2
}
