{
 "cells": [
  {
   "cell_type": "code",
   "execution_count": 2,
   "metadata": {},
   "outputs": [],
   "source": [
    "import pandas as pd\n",
    "import datetime\n",
    "import numpy as np"
   ]
  },
  {
   "cell_type": "code",
   "execution_count": 4,
   "metadata": {},
   "outputs": [
    {
     "data": {
      "text/html": [
       "<div>\n",
       "<style scoped>\n",
       "    .dataframe tbody tr th:only-of-type {\n",
       "        vertical-align: middle;\n",
       "    }\n",
       "\n",
       "    .dataframe tbody tr th {\n",
       "        vertical-align: top;\n",
       "    }\n",
       "\n",
       "    .dataframe thead th {\n",
       "        text-align: right;\n",
       "    }\n",
       "</style>\n",
       "<table border=\"1\" class=\"dataframe\">\n",
       "  <thead>\n",
       "    <tr style=\"text-align: right;\">\n",
       "      <th></th>\n",
       "      <th>A</th>\n",
       "      <th>B</th>\n",
       "      <th>C</th>\n",
       "    </tr>\n",
       "  </thead>\n",
       "  <tbody>\n",
       "    <tr>\n",
       "      <th>1999-01-01</th>\n",
       "      <td>0.052856</td>\n",
       "      <td>0.647741</td>\n",
       "      <td>0.217777</td>\n",
       "    </tr>\n",
       "    <tr>\n",
       "      <th>1999-01-02</th>\n",
       "      <td>0.603721</td>\n",
       "      <td>0.471495</td>\n",
       "      <td>0.336302</td>\n",
       "    </tr>\n",
       "    <tr>\n",
       "      <th>1999-01-03</th>\n",
       "      <td>0.898848</td>\n",
       "      <td>0.684592</td>\n",
       "      <td>0.694548</td>\n",
       "    </tr>\n",
       "    <tr>\n",
       "      <th>1999-01-04</th>\n",
       "      <td>0.010954</td>\n",
       "      <td>0.724852</td>\n",
       "      <td>0.913408</td>\n",
       "    </tr>\n",
       "    <tr>\n",
       "      <th>1999-01-05</th>\n",
       "      <td>0.860936</td>\n",
       "      <td>0.516554</td>\n",
       "      <td>0.368420</td>\n",
       "    </tr>\n",
       "  </tbody>\n",
       "</table>\n",
       "</div>"
      ],
      "text/plain": [
       "                   A         B         C\n",
       "1999-01-01  0.052856  0.647741  0.217777\n",
       "1999-01-02  0.603721  0.471495  0.336302\n",
       "1999-01-03  0.898848  0.684592  0.694548\n",
       "1999-01-04  0.010954  0.724852  0.913408\n",
       "1999-01-05  0.860936  0.516554  0.368420"
      ]
     },
     "execution_count": 4,
     "metadata": {},
     "output_type": "execute_result"
    }
   ],
   "source": [
    "df = pd.DataFrame(np.random.rand(365,3), index=pd.date_range('1999-01-01', periods=365), columns=list('ABC'))\n",
    "df.head()"
   ]
  },
  {
   "cell_type": "code",
   "execution_count": 30,
   "metadata": {},
   "outputs": [],
   "source": [
    "# \n",
    "df = pd.DataFrame(columns=['Date','Time','Focus','Emotion'])"
   ]
  },
  {
   "cell_type": "code",
   "execution_count": 31,
   "metadata": {},
   "outputs": [],
   "source": [
    "def score(s1,s2,df):\n",
    "    if str(s1).lower() == \"focused\":\n",
    "        focus = 1\n",
    "    else:\n",
    "        focus = 0\n",
    "    if str(s2).lower() == \"positive\":\n",
    "        emotion = 1\n",
    "    else:\n",
    "        emotion = 0\n",
    "    print(focus,emotion)\n",
    "\n",
    "    now = datetime.datetime.now()\n",
    "\n",
    "    # print (\"Current date and time : \")\n",
    "    # print (now.strftime(\"%Y-%m-%d %H:%M:%S\"))\n",
    "\n",
    "\n",
    "    date = str(now.strftime(\"%Y-%m-%d\"))\n",
    "    time = str(now.strftime(\"%H:%M:%S\"))\n",
    "\n",
    "    data = {'Date':date,'Time':time,'Focus':focus,'Emotion':emotion}\n",
    "    df = df.append(data, ignore_index=True)\n",
    "\n",
    "    print(df.head())"
   ]
  },
  {
   "cell_type": "code",
   "execution_count": 33,
   "metadata": {},
   "outputs": [
    {
     "name": "stdout",
     "output_type": "stream",
     "text": [
      "1 0\n",
      "         Date      Time Focus Emotion\n",
      "0  2022-10-24  12:18:56     1       0\n"
     ]
    },
    {
     "name": "stderr",
     "output_type": "stream",
     "text": [
      "C:\\Users\\User\\AppData\\Local\\Temp\\ipykernel_7744\\681395929.py:22: FutureWarning: The frame.append method is deprecated and will be removed from pandas in a future version. Use pandas.concat instead.\n",
      "  df = df.append(data, ignore_index=True)\n"
     ]
    }
   ],
   "source": [
    "\n",
    "score(\"Focused\",\"Positive\",df)"
   ]
  }
 ],
 "metadata": {
  "kernelspec": {
   "display_name": "Python 3.10.5 ('unfairenvv': venv)",
   "language": "python",
   "name": "python3"
  },
  "language_info": {
   "codemirror_mode": {
    "name": "ipython",
    "version": 3
   },
   "file_extension": ".py",
   "mimetype": "text/x-python",
   "name": "python",
   "nbconvert_exporter": "python",
   "pygments_lexer": "ipython3",
   "version": "3.10.5"
  },
  "orig_nbformat": 4,
  "vscode": {
   "interpreter": {
    "hash": "217b67888a8b9bfb378467d0367d5af6290a70a8d11a5af264ad2577b0b9c5ba"
   }
  }
 },
 "nbformat": 4,
 "nbformat_minor": 2
}
